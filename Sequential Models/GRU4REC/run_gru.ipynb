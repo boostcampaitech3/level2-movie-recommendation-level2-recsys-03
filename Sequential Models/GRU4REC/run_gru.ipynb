{
 "cells": [
  {
   "cell_type": "code",
   "execution_count": 14,
   "metadata": {},
   "outputs": [],
   "source": [
    "import argparse\n",
    "import os\n",
    "from recbole.quick_start import run_recbole\n",
    "\n",
    "parameter_dict = {\n",
    "    'neg_sampling': None,\n",
    "    'hidden_size': 128,\n",
    "    'num_layers' : 1,\n",
    "    'dropoutt_prob': 0.3,\n",
    "    'user_inter_num_interval': \"[30,inf)\",\n",
    "    'item_inter_num_interval': \"[40,inf)\",\n",
    "    'eval_args': {\n",
    "        'split': {'RS': [10, 0, 0]},\n",
    "        'group_by': 'user',\n",
    "        'order': 'TO',\n",
    "        'mode': 'full'}\n",
    "}\n",
    "\n",
    "config_file_list = ['/opt/ml/RecBole/srcs/config/Config_gru4rec.yaml']"
   ]
  },
  {
   "cell_type": "code",
   "execution_count": null,
   "metadata": {},
   "outputs": [],
   "source": [
    "# config_file_list = args.config_files.strip().split(' ') if args.config_files else None\n",
    "run_recbole(model='GRU4Rec', dataset='ml_bc', config_file_list= config_file_list, config_dict = parameter_dict)"
   ]
  }
 ],
 "metadata": {
  "interpreter": {
   "hash": "d4d1e4263499bec80672ea0156c357c1ee493ec2b1c70f0acce89fc37c4a6abe"
  },
  "kernelspec": {
   "display_name": "Python 3.8.5 ('base')",
   "language": "python",
   "name": "python3"
  },
  "language_info": {
   "codemirror_mode": {
    "name": "ipython",
    "version": 3
   },
   "file_extension": ".py",
   "mimetype": "text/x-python",
   "name": "python",
   "nbconvert_exporter": "python",
   "pygments_lexer": "ipython3",
   "version": "3.8.5"
  },
  "orig_nbformat": 4
 },
 "nbformat": 4,
 "nbformat_minor": 2
}

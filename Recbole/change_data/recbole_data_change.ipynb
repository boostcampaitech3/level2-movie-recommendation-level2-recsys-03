{
 "cells": [
  {
   "cell_type": "code",
   "execution_count": null,
   "id": "796894e4",
   "metadata": {
    "_cell_guid": "b1076dfc-b9ad-4769-8c92-a6c4dae69d19",
    "_uuid": "8f2839f25d086af736a60e9eeb907d3b93b6e0e5",
    "execution": {
     "iopub.execute_input": "2022-03-20T03:21:49.077123Z",
     "iopub.status.busy": "2022-03-20T03:21:49.076011Z",
     "iopub.status.idle": "2022-03-20T03:22:10.110393Z",
     "shell.execute_reply": "2022-03-20T03:22:10.109242Z",
     "shell.execute_reply.started": "2022-03-19T07:15:02.071127Z"
    },
    "papermill": {
     "duration": 21.115617,
     "end_time": "2022-03-20T03:22:10.110594",
     "exception": false,
     "start_time": "2022-03-20T03:21:48.994977",
     "status": "completed"
    },
    "tags": []
   },
   "outputs": [],
   "source": [
    "!pip install recbole"
   ]
  },
  {
   "cell_type": "code",
   "execution_count": null,
   "id": "73239bab",
   "metadata": {
    "execution": {
     "iopub.execute_input": "2022-03-20T03:22:10.257515Z",
     "iopub.status.busy": "2022-03-20T03:22:10.256377Z",
     "iopub.status.idle": "2022-03-20T03:23:16.176085Z",
     "shell.execute_reply": "2022-03-20T03:23:16.176596Z",
     "shell.execute_reply.started": "2022-03-19T07:15:17.429911Z"
    },
    "papermill": {
     "duration": 65.997767,
     "end_time": "2022-03-20T03:23:16.176777",
     "exception": false,
     "start_time": "2022-03-20T03:22:10.179010",
     "status": "completed"
    },
    "tags": []
   },
   "outputs": [],
   "source": [
    "import pandas as pd\n",
    "df = pd.read_csv(r\"/opt/ml/input/data/train/all_items.csv\", \n",
    "                 dtype={'article_id': 'str'})\n",
    "df.head()"
   ]
  },
  {
   "cell_type": "code",
   "execution_count": null,
   "id": "b4b9ffc7",
   "metadata": {
    "execution": {
     "iopub.execute_input": "2022-03-20T03:23:23.406061Z",
     "iopub.status.busy": "2022-03-20T03:23:23.404925Z",
     "iopub.status.idle": "2022-03-20T03:23:25.058648Z",
     "shell.execute_reply": "2022-03-20T03:23:25.059139Z",
     "shell.execute_reply.started": "2022-03-19T07:16:23.242276Z"
    },
    "papermill": {
     "duration": 1.734735,
     "end_time": "2022-03-20T03:23:25.059306",
     "exception": false,
     "start_time": "2022-03-20T03:23:23.324571",
     "status": "completed"
    },
    "tags": []
   },
   "outputs": [],
   "source": [
    "temp = df[df['item'] > 1][['item', 'genre', 'title','year','writer','director']].rename(\n",
    "    columns={'item': 'item:token','genre': 'genre:token_seq','title': 'title:token','year':'year:token', 'writer': 'writer:token_seq','director': 'director:token'})\n",
    "temp"
   ]
  },
  {
   "cell_type": "markdown",
   "id": "d0f27239",
   "metadata": {
    "papermill": {
     "duration": 0.065277,
     "end_time": "2022-03-20T03:23:25.191185",
     "exception": false,
     "start_time": "2022-03-20T03:23:25.125908",
     "status": "completed"
    },
    "tags": []
   },
   "source": [
    "Create data file in recbole format"
   ]
  },
  {
   "cell_type": "code",
   "execution_count": null,
   "id": "fb54432a",
   "metadata": {
    "execution": {
     "iopub.execute_input": "2022-03-20T03:23:25.330985Z",
     "iopub.status.busy": "2022-03-20T03:23:25.330083Z",
     "iopub.status.idle": "2022-03-20T03:24:02.483165Z",
     "shell.execute_reply": "2022-03-20T03:24:02.482632Z",
     "shell.execute_reply.started": "2022-03-19T07:16:24.818521Z"
    },
    "papermill": {
     "duration": 37.226498,
     "end_time": "2022-03-20T03:24:02.483347",
     "exception": false,
     "start_time": "2022-03-20T03:23:25.256849",
     "status": "completed"
    },
    "tags": []
   },
   "outputs": [],
   "source": [
    "# !mkdir /kaggle/working/recbox_data\n",
    "temp.to_csv('/opt/ml/input/code/recbox_data.item', index=False, sep='\\t')"
   ]
  }
 ],
 "metadata": {
  "kernelspec": {
   "display_name": "Python 3",
   "language": "python",
   "name": "python3"
  },
  "language_info": {
   "codemirror_mode": {
    "name": "ipython",
    "version": 3
   },
   "file_extension": ".py",
   "mimetype": "text/x-python",
   "name": "python",
   "nbconvert_exporter": "python",
   "pygments_lexer": "ipython3",
   "version": "3.8.5"
  },
  "papermill": {
   "default_parameters": {},
   "duration": 309.140629,
   "end_time": "2022-03-20T03:26:48.101763",
   "environment_variables": {},
   "exception": null,
   "input_path": "__notebook__.ipynb",
   "output_path": "__notebook__.ipynb",
   "parameters": {},
   "start_time": "2022-03-20T03:21:38.961134",
   "version": "2.3.3"
  }
 },
 "nbformat": 4,
 "nbformat_minor": 5
}
